{
 "cells": [
  {
   "cell_type": "code",
   "execution_count": 22,
   "metadata": {},
   "outputs": [
    {
     "name": "stdout",
     "output_type": "stream",
     "text": [
      "x |--> (x == -2*sqrt(6), x == 2*sqrt(6))\n"
     ]
    }
   ],
   "source": [
    "var('x','y','z','f')\n",
    "f = 2.0\n",
    "y = 3.0\n",
    "eq(x)=solve(x^2+(y-f)^2==(y+f)^2,x)\n",
    "print(eq)\n",
    "#fun(x)=1/(4*f)*x^2\n",
    "#print(y)\n",
    "#plot(eq(x),(-3*pi,3*pi), axes=\"true\")"
   ]
  },
  {
   "cell_type": "code",
   "execution_count": 69,
   "metadata": {},
   "outputs": [
    {
     "name": "stdout",
     "output_type": "stream",
     "text": [
      "(y == 1/2*(d^2 - fx^2 - fy^2 + 2*fx*x - x^2)/(d - fy))\n"
     ]
    },
    {
     "data": {
      "text/plain": [
       "Graphics object consisting of 1 graphics primitive"
      ]
     },
     "execution_count": 69,
     "metadata": {},
     "output_type": "execute_result"
    }
   ],
   "source": [
    "var('x','y','d','fx','fy')\n",
    "#fx=3.0\n",
    "#fy=2.0\n",
    "#d=1.0\n",
    "eq(x)=solve((x-fx)^2+(y-fy)^2==(y-d)^2,y)\n",
    "print(eq(x))\n",
    "implicit_plot(eq(x), (x, -5, 5), (y, -5, 5), axes=\"true\", aspect_ratio=1)"
   ]
  },
  {
   "cell_type": "code",
   "execution_count": 65,
   "metadata": {},
   "outputs": [
    {
     "data": {
      "image/png": "[encoded data removed]",
      "text/plain": [
       "Graphics object consisting of 1 graphics primitive"
      ]
     },
     "execution_count": 65,
     "metadata": {},
     "output_type": "execute_result"
    }
   ],
   "source": [
    "plot(1/2*x^2 - 3*x + 6, (x, -3, 10), axes=\"true\", aspect_ratio=1)"
   ]
  },
  {
   "cell_type": "code",
   "execution_count": 68,
   "metadata": {},
   "outputs": [
    {
     "data": {
      "text/html": [
       "\n",
       "<iframe srcdoc=\"\n",
       "<html>\n",
       "<head>\n",
       "  <style>\n",
       "    * {\n",
       "      margin: 0;\n",
       "      padding: 0;\n",
       "      overflow: hidden;\n",
       "    }\n",
       "    body, html {      \n",
       "      height: 100%;\n",
       "      width: 100%;\n",
       "    }\n",
       "  </style>\n",
       "  <script type=&quot;text/javascript&quot; src=&quot;/nbextensions/jsmol/JSmol.min.js&quot;></script>\n",
       "</head>\n",
       "<body>\n",
       "  <script type=&quot;text/javascript&quot;>\n",
       "    var script = [\n",
       "  'data &quot;model list&quot;',\n",
       "  '10',\n",
       "  'empty',\n",
       "  'Xx -3.0 -4.0 -3.0',\n",
       "  'Xx 0.0 -4.0 -3.0',\n",
       "  'Xx 3.0 -4.0 -3.0',\n",
       "  'Xx 4.0 -3.0 -3.0',\n",
       "  'Xx 4.0 0.0 -3.0',\n",
       "  'Xx 4.0 3.0 -3.0',\n",
       "  'Xx -4.0 -3.0 -3.0',\n",
       "  'Xx -4.0 -3.0 0.0',\n",
       "  'Xx -4.0 -3.0 3.0',\n",
       "  'Xx 5.5 5.5 5.5',\n",
       "  'end &quot;model list&quot;; show data',\n",
       "  'select *',\n",
       "  'wireframe off; spacefill off',\n",
       "  'set labelOffset 0 0',\n",
       "  'background [255,255,255]',\n",
       "  'spin OFF',\n",
       "  'moveto 0 -764 -346 -545 76.39',\n",
       "  'centerAt absolute {0 0 0}',\n",
       "  'zoom 100',\n",
       "  'frank OFF',\n",
       "  'set perspectivedepth ON',\n",
       "  'draw line_1 diameter 1 curve {-6.22744685663e-05 3.0 -3.0}  {0.801034458515 2.89106792712 -2.91891891892}  {1.54396960053 2.57218044461 -2.83783783784}  {2.17480423501 2.06648956714 -2.75675675676}  {2.64773821765 1.41070969481 -2.67567567568}  {2.92843537939 0.652452057489 -2.59459459459}  {2.99651641666 -0.153231977457 -2.51351351351}  {2.8470384789 -0.947847769666 -2.43243243243}  {2.49085403162 -1.6737042604 -2.35135135135}  {1.95382294079 -2.27810248512 -2.27027027027}  {1.27493498299 -2.71716164782 -2.18918918919}  {0.50347909185 -2.9590049746 -2.10810810811}  {-0.304535139593 -2.98607404577 -2.02702702703}  {-1.09044389299 -2.79640358026 -1.94594594595}  {-1.79718826201 -2.40376411985 -1.86486486486}  {-2.37345686912 -1.83666225401 -1.78378378378}  {-2.77741119765 -1.13627097147 -1.7027027027}  {-2.97972317091 -0.353440400072 -1.62162162162}  {-2.9657044426 0.454994037418 -1.54054054054}  {-2.73637280682 1.23033801466 -1.45945945946}  {-2.30837830377 1.91629965403 -1.37837837838}  {-1.71279438588 2.46307645522 -1.2972972973}  {-0.992861908816 2.83097107913 -1.21621621622}  {-0.200849739171 2.99327347222 -1.13513513514}  {0.60574009371 2.938200082 -1.05405405405}  {1.36834718631 2.6697493719 -0.972972972973}  {2.03160439013 2.20741152302 -0.891891891892}  {2.54735760265 1.58475339906 -0.810810810811}  {2.87816187354 0.846981509577 -0.72972972973}  {3.0 0.0476599063307 -0.648648648649}  {2.90402623472 -0.755178698497 -0.567567567568}  {2.59720850885 -1.50324624977 -0.486486486486}  {2.10182254307 -2.14223120538 -0.405405405405}  {1.45383457559 -2.6257416877 -0.324324324324}  {0.700290124834 -2.91867364781 -0.243243243243}  {-0.104101630755 -2.99975950571 -0.162162162162}  {-0.900939873471 -2.86311222892 -0.0810810810811}  {-1.63237218921 -2.51865274545 -4.4408920985e-16}  {-2.24529479484 -1.99138966006 0.0810810810811}  {-2.69520800335 -1.31960356816 0.162162162162}  {-2.94944701046 -0.552067790472 0.243243243243}  {-2.98955343963 0.255492689848 0.324324324324}  {-2.81261546556 1.04444699789 0.405405405405}  {-2.43147921988 1.75751511258 0.486486486486}  {-1.8738161304 2.34292653691 0.567567567568}  {-1.18011390751 2.75817896321 0.648648648649}  {-0.400737036878 2.97312404515 0.72972972973}  {0.407729805887 2.97215624168 0.810810810811}  {1.18658994175 2.75534581772 0.891891891892}  {1.87929621132 2.33843374271 0.972972972973}  {2.43555643757 1.75168885757 1.05405405405}  {2.81498476145 1.0377102825 1.13513513514}  {2.99003375446 0.248334616166 1.21621621622}  {2.94799442964 -0.559127528711 1.2972972973}  {2.69191894524 -1.32605241662 1.37837837838}  {2.24039901059 -1.99675941649 1.45945945946}  {1.62621608222 -2.52255355234 1.54054054054}  {0.893961349686 -2.86526087812 1.62162162162}  {0.0967983055805 -3.0 1.7027027027}  {-0.707397054606 -2.91698852671 1.78378378378}  {-1.46023817196 -2.62225329515 1.86486486486}  {-2.10706693176 -2.13719280725 1.94594594595}  {-2.60092197692 -1.49702364613 2.02702702703}  {-2.90594821782 -0.748223665671 2.10810810811}  {-3.0 0.0548424158748 2.18918918919}  {-2.87624893299 0.853870028 2.27027027027}  {-2.5436796483 1.590847803 2.35135135135}  {-2.02643749306 2.21226934378 2.43243243243}  {-1.3620755185 2.67301791976 2.51351351351}  {-0.59882803621 2.93964205235 2.59459459459}  {0.207891311448 2.99278417447 2.67567567568}  {0.999512717863 2.82858603751 2.75675675676}  {1.71856252406 2.4589688296 2.83783783784}  {2.31283594753 1.91076766812 2.91891891892}  {2.7391872777 1.22378330423 3.0} ',\n",
       "  'color $line_1  [102,102,255]',\n",
       "  'draw line_2 diameter 1 curve {-3.0 -3.0 -3.0}  {-3.0 3.0 -3.0} ',\n",
       "  'color $line_2 translucent 0.5 [0,0,0]',\n",
       "  'draw line_3 diameter 1 curve {-3.0 3.0 -3.0}  {3.0 3.0 -3.0} ',\n",
       "  'color $line_3 translucent 0.5 [0,0,0]',\n",
       "  'draw line_4 diameter 1 curve {3.0 3.0 -3.0}  {3.0 -3.0 -3.0} ',\n",
       "  'color $line_4 translucent 0.5 [0,0,0]',\n",
       "  'draw line_5 diameter 1 curve {3.0 -3.0 -3.0}  {-3.0 -3.0 -3.0} ',\n",
       "  'color $line_5 translucent 0.5 [0,0,0]',\n",
       "  'draw line_6 diameter 1 curve {-3.0 -3.0 -3.0}  {-3.0 -3.0 3.0} ',\n",
       "  'color $line_6 translucent 0.5 [0,0,0]',\n",
       "  'draw line_7 diameter 1 curve {-3.0 -3.0 3.0}  {-3.0 3.0 3.0} ',\n",
       "  'color $line_7 translucent 0.5 [0,0,0]',\n",
       "  'draw line_8 diameter 1 curve {-3.0 3.0 3.0}  {3.0 3.0 3.0} ',\n",
       "  'color $line_8 translucent 0.5 [0,0,0]',\n",
       "  'draw line_9 diameter 1 curve {3.0 3.0 3.0}  {3.0 -3.0 3.0} ',\n",
       "  'color $line_9 translucent 0.5 [0,0,0]',\n",
       "  'draw line_10 diameter 1 curve {3.0 -3.0 3.0}  {-3.0 -3.0 3.0} ',\n",
       "  'color $line_10 translucent 0.5 [0,0,0]',\n",
       "  'draw line_11 diameter 1 curve {-3.0 -3.0 3.0} ',\n",
       "  'color $line_11 translucent 0.5 [0,0,0]',\n",
       "  'draw line_12 diameter 1 curve {-3.0 3.0 -3.0}  {-3.0 3.0 3.0} ',\n",
       "  'color $line_12 translucent 0.5 [0,0,0]',\n",
       "  'draw line_13 diameter 1 curve {3.0 -3.0 -3.0}  {3.0 -3.0 3.0} ',\n",
       "  'color $line_13 translucent 0.5 [0,0,0]',\n",
       "  'draw line_14 diameter 1 curve {3.0 3.0 -3.0}  {3.0 3.0 3.0} ',\n",
       "  'color $line_14 translucent 0.5 [0,0,0]',\n",
       "  'select atomno = 1',\n",
       "  'color atom  [76,76,76]',\n",
       "  'label &quot;-1.00&quot;',\n",
       "  'select atomno = 2',\n",
       "  'color atom  [76,76,76]',\n",
       "  'label &quot;0.00&quot;',\n",
       "  'select atomno = 3',\n",
       "  'color atom  [76,76,76]',\n",
       "  'label &quot;1.00&quot;',\n",
       "  'select atomno = 4',\n",
       "  'color atom  [76,76,76]',\n",
       "  'label &quot;-1.00&quot;',\n",
       "  'select atomno = 5',\n",
       "  'color atom  [76,76,76]',\n",
       "  'label &quot;0.00&quot;',\n",
       "  'select atomno = 6',\n",
       "  'color atom  [76,76,76]',\n",
       "  'label &quot;1.00&quot;',\n",
       "  'select atomno = 7',\n",
       "  'color atom  [76,76,76]',\n",
       "  'label &quot;0.0&quot;',\n",
       "  'select atomno = 8',\n",
       "  'color atom  [76,76,76]',\n",
       "  'label &quot;1.0&quot;',\n",
       "  'select atomno = 9',\n",
       "  'color atom  [76,76,76]',\n",
       "  'label &quot;2.0&quot;',\n",
       "  'isosurface fullylit; pmesh o* fullylit; set antialiasdisplay on;',\n",
       "].join('\\n');;\n",
       "    var Info = {\n",
       "      width: '100%',\n",
       "      height: '500',\n",
       "      debug: false,\n",
       "      disableInitialConsole: true,   // very slow when used with inline mesh\n",
       "      color: '#3131ff',\n",
       "      addSelectionOptions: false,\n",
       "      use: 'HTML5',\n",
       "      j2sPath: '/nbextensions/jsmol/j2s',\n",
       "      script: script,\n",
       "    };\n",
       "    var jmolApplet0 = Jmol.getApplet('jmolApplet0', Info);\n",
       "  </script>\n",
       "</body>\n",
       "</html>\n",
       "\" \n",
       "        width=\"100%\"\n",
       "        height=\"500\"\n",
       "        style=\"border: 0;\">\n",
       "</iframe>\n"
      ],
      "text/plain": [
       "Graphics3d Object"
      ]
     },
     "execution_count": 68,
     "metadata": {},
     "output_type": "execute_result"
    }
   ],
   "source": [
    "s=var('s')\n",
    "x0=-1.2\n",
    "y0=-1.2\n",
    "x1=1.2\n",
    "y1=1.2\n",
    "parametric_plot3d(((1-s)*x0+s*x1, (1-s)*x0+s*x1, s/10), (s,0,20))"
   ]
  },
  {
   "cell_type": "code",
   "execution_count": 72,
   "metadata": {},
   "outputs": [
    {
     "data": {
      "text/plain": [
       "2"
      ]
     },
     "execution_count": 72,
     "metadata": {},
     "output_type": "execute_result"
    }
   ],
   "source": [
    "A=[1,2,3]\n",
    "B=[-1,2,2]\n",
    "\n",
    "\n",
    "#C=[2,1,3]\n",
    "#p(x)=(x-B[0])(x-)\n",
    "\n"
   ]
  },
  {
   "cell_type": "code",
   "execution_count": 85,
   "metadata": {},
   "outputs": [
    {
     "name": "stdout",
     "output_type": "stream",
     "text": [
      "(-0.400000000000000, -0.100000000000000, 2.00000000000000)\n",
      "(-0.400000000000000, -0.100000000000000, 2.00000000000000)\n"
     ]
    }
   ],
   "source": [
    "A=[0.0,2.0]\n",
    "B=[1.0,1.5]\n",
    "C=[2.0,0.2]\n",
    "M=matrix([[A[0]^2,A[0],1],[B[0]^2,B[0],1],[C[0]^2,C[0],1]])\n",
    "V=vector([2.0,1.5,0.2])\n",
    "print(M.solve_right(V))\n",
    "M=M.inverse()\n",
    "print(M*V)\n"
   ]
  },
  {
   "cell_type": "code",
   "execution_count": 87,
   "metadata": {},
   "outputs": [
    {
     "ename": "ZeroDivisionError",
     "evalue": "input matrix must be nonsingular",
     "output_type": "error",
     "traceback": [
      "\u001b[0;31m---------------------------------------------------------------------------\u001b[0m",
      "\u001b[0;31mZeroDivisionError\u001b[0m                         Traceback (most recent call last)",
      "\u001b[0;32m<ipython-input-87-cfb7997766f3>\u001b[0m in \u001b[0;36m<module>\u001b[0;34m()\u001b[0m\n\u001b[1;32m      6\u001b[0m \u001b[0mV\u001b[0m\u001b[0;34m=\u001b[0m\u001b[0mvector\u001b[0m\u001b[0;34m(\u001b[0m\u001b[0;34m[\u001b[0m\u001b[0mRealNumber\u001b[0m\u001b[0;34m(\u001b[0m\u001b[0;34m'0.0'\u001b[0m\u001b[0;34m)\u001b[0m\u001b[0;34m,\u001b[0m\u001b[0mh\u001b[0m\u001b[0;34m,\u001b[0m\u001b[0mRealNumber\u001b[0m\u001b[0;34m(\u001b[0m\u001b[0;34m'0.0'\u001b[0m\u001b[0;34m)\u001b[0m\u001b[0;34m]\u001b[0m\u001b[0;34m)\u001b[0m\u001b[0;34m\u001b[0m\u001b[0m\n\u001b[1;32m      7\u001b[0m \u001b[0;31m#print(M.solve_right(V))\u001b[0m\u001b[0;34m\u001b[0m\u001b[0;34m\u001b[0m\u001b[0m\n\u001b[0;32m----> 8\u001b[0;31m \u001b[0mM\u001b[0m\u001b[0;34m=\u001b[0m\u001b[0mM\u001b[0m\u001b[0;34m.\u001b[0m\u001b[0minverse\u001b[0m\u001b[0;34m(\u001b[0m\u001b[0;34m)\u001b[0m\u001b[0;34m\u001b[0m\u001b[0m\n\u001b[0m\u001b[1;32m      9\u001b[0m \u001b[0;32mprint\u001b[0m\u001b[0;34m(\u001b[0m\u001b[0mM\u001b[0m\u001b[0;34m*\u001b[0m\u001b[0mV\u001b[0m\u001b[0;34m)\u001b[0m\u001b[0;34m\u001b[0m\u001b[0m\n",
      "\u001b[0;32m/opt/sagemath-8.4/local/lib/python2.7/site-packages/sage/matrix/matrix2.pyx\u001b[0m in \u001b[0;36msage.matrix.matrix2.Matrix.inverse (build/cythonized/sage/matrix/matrix2.c:71887)\u001b[0;34m()\u001b[0m\n\u001b[1;32m   8852\u001b[0m             \u001b[0;34m[\u001b[0m\u001b[0;34m]\u001b[0m\u001b[0;34m\u001b[0m\u001b[0m\n\u001b[1;32m   8853\u001b[0m         \"\"\"\n\u001b[0;32m-> 8854\u001b[0;31m         \u001b[0;32mreturn\u001b[0m \u001b[0;34m~\u001b[0m\u001b[0mself\u001b[0m\u001b[0;34m\u001b[0m\u001b[0m\n\u001b[0m\u001b[1;32m   8855\u001b[0m \u001b[0;34m\u001b[0m\u001b[0m\n\u001b[1;32m   8856\u001b[0m     \u001b[0;32mdef\u001b[0m \u001b[0madjoint\u001b[0m\u001b[0;34m(\u001b[0m\u001b[0mself\u001b[0m\u001b[0;34m)\u001b[0m\u001b[0;34m:\u001b[0m\u001b[0;34m\u001b[0m\u001b[0m\n",
      "\u001b[0;32m/opt/sagemath-8.4/local/lib/python2.7/site-packages/sage/matrix/matrix0.pyx\u001b[0m in \u001b[0;36msage.matrix.matrix0.Matrix.__invert__ (build/cythonized/sage/matrix/matrix0.c:37374)\u001b[0;34m()\u001b[0m\n\u001b[1;32m   5329\u001b[0m         \u001b[0;32melse\u001b[0m\u001b[0;34m:\u001b[0m\u001b[0;34m\u001b[0m\u001b[0m\n\u001b[1;32m   5330\u001b[0m             \u001b[0;32mif\u001b[0m \u001b[0;32mnot\u001b[0m \u001b[0mA\u001b[0m\u001b[0;34m[\u001b[0m\u001b[0mself\u001b[0m\u001b[0;34m.\u001b[0m\u001b[0m_nrows\u001b[0m\u001b[0;34m-\u001b[0m\u001b[0;36m1\u001b[0m\u001b[0;34m,\u001b[0m \u001b[0mself\u001b[0m\u001b[0;34m.\u001b[0m\u001b[0m_ncols\u001b[0m\u001b[0;34m-\u001b[0m\u001b[0;36m1\u001b[0m\u001b[0;34m]\u001b[0m\u001b[0;34m:\u001b[0m\u001b[0;34m\u001b[0m\u001b[0m\n\u001b[0;32m-> 5331\u001b[0;31m                 \u001b[0;32mraise\u001b[0m \u001b[0mZeroDivisionError\u001b[0m\u001b[0;34m(\u001b[0m\u001b[0;34m\"input matrix must be nonsingular\"\u001b[0m\u001b[0;34m)\u001b[0m\u001b[0;34m\u001b[0m\u001b[0m\n\u001b[0m\u001b[1;32m   5332\u001b[0m \u001b[0;34m\u001b[0m\u001b[0m\n\u001b[1;32m   5333\u001b[0m         \u001b[0;32mif\u001b[0m \u001b[0mself\u001b[0m\u001b[0;34m.\u001b[0m\u001b[0mis_sparse\u001b[0m\u001b[0;34m(\u001b[0m\u001b[0;34m)\u001b[0m\u001b[0;34m:\u001b[0m\u001b[0;34m\u001b[0m\u001b[0m\n",
      "\u001b[0;31mZeroDivisionError\u001b[0m: input matrix must be nonsingular"
     ]
    }
   ],
   "source": [
    "h=var('h')\n",
    "A=[0.0,0.0]\n",
    "B=[1.0,h]\n",
    "C=[1.0,0.0]\n",
    "M=matrix([[A[0]^2,A[0],1],[B[0]^2,B[0],1],[C[0]^2,C[0],1]])\n",
    "V=vector([0.0,h,0.0])\n",
    "#print(M.solve_right(V))\n",
    "M=M.inverse()\n",
    "print(M*V)"
   ]
  },
  {
   "cell_type": "code",
   "execution_count": null,
   "metadata": {},
   "outputs": [],
   "source": []
  }
 ],
 "metadata": {
  "kernelspec": {
   "display_name": "SageMath 8.4",
   "language": "",
   "name": "sagemath"
  },
  "language_info": {
   "codemirror_mode": {
    "name": "ipython",
    "version": 2
   },
   "file_extension": ".py",
   "mimetype": "text/x-python",
   "name": "python",
   "nbconvert_exporter": "python",
   "pygments_lexer": "ipython2",
   "version": "2.7.15"
  }
 },
 "nbformat": 4,
 "nbformat_minor": 2
}
